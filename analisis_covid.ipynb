{
  "nbformat": 4,
  "nbformat_minor": 0,
  "metadata": {
    "colab": {
      "name": "analisis covid.ipynb",
      "provenance": [],
      "collapsed_sections": []
    },
    "kernelspec": {
      "name": "python3",
      "display_name": "Python 3"
    }
  },
  "cells": [
    {
      "cell_type": "markdown",
      "metadata": {
        "id": "I1Sdmp42sdss",
        "colab_type": "text"
      },
      "source": [
        "#Start"
      ]
    },
    {
      "cell_type": "code",
      "metadata": {
        "id": "59iKtG__sBgM",
        "colab_type": "code",
        "colab": {
          "base_uri": "https://localhost:8080/",
          "height": 122
        },
        "outputId": "edcf3b1b-4432-4f07-d599-1fea1e0faffc"
      },
      "source": [
        "from google.colab import drive\n",
        "drive.mount('/content/drive')"
      ],
      "execution_count": 2,
      "outputs": [
        {
          "output_type": "stream",
          "text": [
            "Go to this URL in a browser: https://accounts.google.com/o/oauth2/auth?client_id=947318989803-6bn6qk8qdgf4n4g3pfee6491hc0brc4i.apps.googleusercontent.com&redirect_uri=urn%3aietf%3awg%3aoauth%3a2.0%3aoob&scope=email%20https%3a%2f%2fwww.googleapis.com%2fauth%2fdocs.test%20https%3a%2f%2fwww.googleapis.com%2fauth%2fdrive%20https%3a%2f%2fwww.googleapis.com%2fauth%2fdrive.photos.readonly%20https%3a%2f%2fwww.googleapis.com%2fauth%2fpeopleapi.readonly&response_type=code\n",
            "\n",
            "Enter your authorization code:\n",
            "··········\n",
            "Mounted at /content/drive\n"
          ],
          "name": "stdout"
        }
      ]
    },
    {
      "cell_type": "markdown",
      "metadata": {
        "id": "klLyZWo0sfMS",
        "colab_type": "text"
      },
      "source": [
        "#Import"
      ]
    },
    {
      "cell_type": "code",
      "metadata": {
        "id": "VtpbQDLrsgKc",
        "colab_type": "code",
        "colab": {}
      },
      "source": [
        "#For the system\n",
        "import os\n",
        "\n",
        "#Manage of time\n",
        "from datetime import datetime, timedelta\n",
        "from pytz import timezone\n",
        "import time\n",
        "\n",
        "#Manage of files\n",
        "import pandas as pd\n",
        "import csv\n",
        "import numpy as np\n",
        "\n",
        "#Graph tools\n",
        "import seaborn as sns\n",
        "import matplotlib.pyplot as plt"
      ],
      "execution_count": 32,
      "outputs": []
    },
    {
      "cell_type": "markdown",
      "metadata": {
        "id": "wjcoNi-8suO6",
        "colab_type": "text"
      },
      "source": [
        "#Loading Info"
      ]
    },
    {
      "cell_type": "code",
      "metadata": {
        "id": "Ia8Om8c7swJ1",
        "colab_type": "code",
        "colab": {
          "base_uri": "https://localhost:8080/",
          "height": 102
        },
        "outputId": "e1ede14d-3170-4d01-b7bf-a8200929c943"
      },
      "source": [
        "%cd 'drive/My Drive/Colab Notebooks/COVID/Data'\n",
        "!ls"
      ],
      "execution_count": 3,
      "outputs": [
        {
          "output_type": "stream",
          "text": [
            "/content/drive/My Drive/Colab Notebooks/COVID/Data\n",
            "covid_19_data.csv\t\t    time_series_covid_19_confirmed_US.csv\n",
            "COVID19_line_list_data.csv\t    time_series_covid_19_deaths.csv\n",
            "COVID19_open_line_list.csv\t    time_series_covid_19_deaths_US.csv\n",
            "time_series_covid_19_confirmed.csv  time_series_covid_19_recovered.csv\n"
          ],
          "name": "stdout"
        }
      ]
    },
    {
      "cell_type": "code",
      "metadata": {
        "id": "2zY3BTvxs6a0",
        "colab_type": "code",
        "colab": {
          "base_uri": "https://localhost:8080/",
          "height": 170
        },
        "outputId": "aa8630c1-4ce3-46f8-e283-926dd495123d"
      },
      "source": [
        "df = pd.read_csv('covid_19_data.csv')\n",
        "df['ObservationDate'] = pd.to_datetime(df['ObservationDate'])\n",
        "df.dtypes"
      ],
      "execution_count": 16,
      "outputs": [
        {
          "output_type": "execute_result",
          "data": {
            "text/plain": [
              "SNo                         int64\n",
              "ObservationDate    datetime64[ns]\n",
              "Province/State             object\n",
              "Country/Region             object\n",
              "Last Update                object\n",
              "Confirmed                 float64\n",
              "Deaths                    float64\n",
              "Recovered                 float64\n",
              "dtype: object"
            ]
          },
          "metadata": {
            "tags": []
          },
          "execution_count": 16
        }
      ]
    },
    {
      "cell_type": "code",
      "metadata": {
        "id": "2gYeToCQt4Je",
        "colab_type": "code",
        "colab": {
          "base_uri": "https://localhost:8080/",
          "height": 450
        },
        "outputId": "ad28f59f-6aa5-4574-820b-069d801c453f"
      },
      "source": [
        "df = df[['ObservationDate',\n",
        "         'Country/Region',\n",
        "         'Confirmed',\n",
        "         'Deaths',\n",
        "         'Recovered']]\n",
        "df_time = df.groupby('ObservationDate').mean()\n",
        "df_time"
      ],
      "execution_count": 25,
      "outputs": [
        {
          "output_type": "execute_result",
          "data": {
            "text/html": [
              "<div>\n",
              "<style scoped>\n",
              "    .dataframe tbody tr th:only-of-type {\n",
              "        vertical-align: middle;\n",
              "    }\n",
              "\n",
              "    .dataframe tbody tr th {\n",
              "        vertical-align: top;\n",
              "    }\n",
              "\n",
              "    .dataframe thead th {\n",
              "        text-align: right;\n",
              "    }\n",
              "</style>\n",
              "<table border=\"1\" class=\"dataframe\">\n",
              "  <thead>\n",
              "    <tr style=\"text-align: right;\">\n",
              "      <th></th>\n",
              "      <th>Confirmed</th>\n",
              "      <th>Deaths</th>\n",
              "      <th>Recovered</th>\n",
              "    </tr>\n",
              "    <tr>\n",
              "      <th>ObservationDate</th>\n",
              "      <th></th>\n",
              "      <th></th>\n",
              "      <th></th>\n",
              "    </tr>\n",
              "  </thead>\n",
              "  <tbody>\n",
              "    <tr>\n",
              "      <th>2020-01-22</th>\n",
              "      <td>14.605263</td>\n",
              "      <td>0.447368</td>\n",
              "      <td>0.736842</td>\n",
              "    </tr>\n",
              "    <tr>\n",
              "      <th>2020-01-23</th>\n",
              "      <td>14.195652</td>\n",
              "      <td>0.391304</td>\n",
              "      <td>0.652174</td>\n",
              "    </tr>\n",
              "    <tr>\n",
              "      <th>2020-01-24</th>\n",
              "      <td>22.951220</td>\n",
              "      <td>0.634146</td>\n",
              "      <td>0.878049</td>\n",
              "    </tr>\n",
              "    <tr>\n",
              "      <th>2020-01-25</th>\n",
              "      <td>32.681818</td>\n",
              "      <td>0.954545</td>\n",
              "      <td>0.886364</td>\n",
              "    </tr>\n",
              "    <tr>\n",
              "      <th>2020-01-26</th>\n",
              "      <td>45.063830</td>\n",
              "      <td>1.191489</td>\n",
              "      <td>1.106383</td>\n",
              "    </tr>\n",
              "    <tr>\n",
              "      <th>...</th>\n",
              "      <td>...</td>\n",
              "      <td>...</td>\n",
              "      <td>...</td>\n",
              "    </tr>\n",
              "    <tr>\n",
              "      <th>2020-08-08</th>\n",
              "      <td>26430.021534</td>\n",
              "      <td>978.170929</td>\n",
              "      <td>16068.787349</td>\n",
              "    </tr>\n",
              "    <tr>\n",
              "      <th>2020-08-09</th>\n",
              "      <td>26731.740242</td>\n",
              "      <td>984.288022</td>\n",
              "      <td>16306.628533</td>\n",
              "    </tr>\n",
              "    <tr>\n",
              "      <th>2020-08-10</th>\n",
              "      <td>27038.524899</td>\n",
              "      <td>990.835801</td>\n",
              "      <td>16528.290713</td>\n",
              "    </tr>\n",
              "    <tr>\n",
              "      <th>2020-08-11</th>\n",
              "      <td>27417.235849</td>\n",
              "      <td>1000.828841</td>\n",
              "      <td>16961.553908</td>\n",
              "    </tr>\n",
              "    <tr>\n",
              "      <th>2020-08-12</th>\n",
              "      <td>27790.898922</td>\n",
              "      <td>1009.916442</td>\n",
              "      <td>17286.812668</td>\n",
              "    </tr>\n",
              "  </tbody>\n",
              "</table>\n",
              "<p>204 rows × 3 columns</p>\n",
              "</div>"
            ],
            "text/plain": [
              "                    Confirmed       Deaths     Recovered\n",
              "ObservationDate                                         \n",
              "2020-01-22          14.605263     0.447368      0.736842\n",
              "2020-01-23          14.195652     0.391304      0.652174\n",
              "2020-01-24          22.951220     0.634146      0.878049\n",
              "2020-01-25          32.681818     0.954545      0.886364\n",
              "2020-01-26          45.063830     1.191489      1.106383\n",
              "...                       ...          ...           ...\n",
              "2020-08-08       26430.021534   978.170929  16068.787349\n",
              "2020-08-09       26731.740242   984.288022  16306.628533\n",
              "2020-08-10       27038.524899   990.835801  16528.290713\n",
              "2020-08-11       27417.235849  1000.828841  16961.553908\n",
              "2020-08-12       27790.898922  1009.916442  17286.812668\n",
              "\n",
              "[204 rows x 3 columns]"
            ]
          },
          "metadata": {
            "tags": []
          },
          "execution_count": 25
        }
      ]
    },
    {
      "cell_type": "code",
      "metadata": {
        "id": "YsCFYagayJIu",
        "colab_type": "code",
        "colab": {
          "base_uri": "https://localhost:8080/",
          "height": 572
        },
        "outputId": "bfacc6e6-e61c-411e-fbbf-7e898e98ee2f"
      },
      "source": [
        "df_time = df.groupby('ObservationDate').median()\n",
        "df_time\n",
        "\n",
        "#plot\n",
        "plt.figure(figsize=(15,3))\n",
        "plt.plot('ObservationDate', 'Confirmed', data=df_time, color='r')\n",
        "plt.plot('ObservationDate', 'Deaths', data=df_time, color='k')\n",
        "plt.plot('ObservationDate', 'Recovered', data=df_time, color='g')\n",
        "\n",
        "plt.legend(loc='best', bbox_to_anchor=(1,1), ncol=1)\n",
        "\n",
        "plt.show()"
      ],
      "execution_count": 37,
      "outputs": [
        {
          "output_type": "error",
          "ename": "ValueError",
          "evalue": "ignored",
          "traceback": [
            "\u001b[0;31m---------------------------------------------------------------------------\u001b[0m",
            "\u001b[0;31mValueError\u001b[0m                                Traceback (most recent call last)",
            "\u001b[0;32m<ipython-input-37-ef8cde572e0e>\u001b[0m in \u001b[0;36m<module>\u001b[0;34m()\u001b[0m\n\u001b[1;32m      4\u001b[0m \u001b[0;31m#plot\u001b[0m\u001b[0;34m\u001b[0m\u001b[0;34m\u001b[0m\u001b[0;34m\u001b[0m\u001b[0m\n\u001b[1;32m      5\u001b[0m \u001b[0mplt\u001b[0m\u001b[0;34m.\u001b[0m\u001b[0mfigure\u001b[0m\u001b[0;34m(\u001b[0m\u001b[0mfigsize\u001b[0m\u001b[0;34m=\u001b[0m\u001b[0;34m(\u001b[0m\u001b[0;36m15\u001b[0m\u001b[0;34m,\u001b[0m\u001b[0;36m3\u001b[0m\u001b[0;34m)\u001b[0m\u001b[0;34m)\u001b[0m\u001b[0;34m\u001b[0m\u001b[0;34m\u001b[0m\u001b[0m\n\u001b[0;32m----> 6\u001b[0;31m \u001b[0mplt\u001b[0m\u001b[0;34m.\u001b[0m\u001b[0mplot\u001b[0m\u001b[0;34m(\u001b[0m\u001b[0;34m'ObservationDate'\u001b[0m\u001b[0;34m,\u001b[0m \u001b[0;34m'Confirmed'\u001b[0m\u001b[0;34m,\u001b[0m \u001b[0mdata\u001b[0m\u001b[0;34m=\u001b[0m\u001b[0mdf_time\u001b[0m\u001b[0;34m,\u001b[0m \u001b[0mcolor\u001b[0m\u001b[0;34m=\u001b[0m\u001b[0;34m'r'\u001b[0m\u001b[0;34m)\u001b[0m\u001b[0;34m\u001b[0m\u001b[0;34m\u001b[0m\u001b[0m\n\u001b[0m\u001b[1;32m      7\u001b[0m \u001b[0mplt\u001b[0m\u001b[0;34m.\u001b[0m\u001b[0mplot\u001b[0m\u001b[0;34m(\u001b[0m\u001b[0;34m'ObservationDate'\u001b[0m\u001b[0;34m,\u001b[0m \u001b[0;34m'Deaths'\u001b[0m\u001b[0;34m,\u001b[0m \u001b[0mdata\u001b[0m\u001b[0;34m=\u001b[0m\u001b[0mdf_time\u001b[0m\u001b[0;34m,\u001b[0m \u001b[0mcolor\u001b[0m\u001b[0;34m=\u001b[0m\u001b[0;34m'k'\u001b[0m\u001b[0;34m)\u001b[0m\u001b[0;34m\u001b[0m\u001b[0;34m\u001b[0m\u001b[0m\n\u001b[1;32m      8\u001b[0m \u001b[0mplt\u001b[0m\u001b[0;34m.\u001b[0m\u001b[0mplot\u001b[0m\u001b[0;34m(\u001b[0m\u001b[0;34m'ObservationDate'\u001b[0m\u001b[0;34m,\u001b[0m \u001b[0;34m'Recovered'\u001b[0m\u001b[0;34m,\u001b[0m \u001b[0mdata\u001b[0m\u001b[0;34m=\u001b[0m\u001b[0mdf_time\u001b[0m\u001b[0;34m,\u001b[0m \u001b[0mcolor\u001b[0m\u001b[0;34m=\u001b[0m\u001b[0;34m'g'\u001b[0m\u001b[0;34m)\u001b[0m\u001b[0;34m\u001b[0m\u001b[0;34m\u001b[0m\u001b[0m\n",
            "\u001b[0;32m/usr/local/lib/python3.6/dist-packages/matplotlib/pyplot.py\u001b[0m in \u001b[0;36mplot\u001b[0;34m(scalex, scaley, data, *args, **kwargs)\u001b[0m\n\u001b[1;32m   2761\u001b[0m     return gca().plot(\n\u001b[1;32m   2762\u001b[0m         *args, scalex=scalex, scaley=scaley, **({\"data\": data} if data\n\u001b[0;32m-> 2763\u001b[0;31m         is not None else {}), **kwargs)\n\u001b[0m\u001b[1;32m   2764\u001b[0m \u001b[0;34m\u001b[0m\u001b[0m\n\u001b[1;32m   2765\u001b[0m \u001b[0;34m\u001b[0m\u001b[0m\n",
            "\u001b[0;32m/usr/local/lib/python3.6/dist-packages/matplotlib/axes/_axes.py\u001b[0m in \u001b[0;36mplot\u001b[0;34m(self, scalex, scaley, data, *args, **kwargs)\u001b[0m\n\u001b[1;32m   1645\u001b[0m         \"\"\"\n\u001b[1;32m   1646\u001b[0m         \u001b[0mkwargs\u001b[0m \u001b[0;34m=\u001b[0m \u001b[0mcbook\u001b[0m\u001b[0;34m.\u001b[0m\u001b[0mnormalize_kwargs\u001b[0m\u001b[0;34m(\u001b[0m\u001b[0mkwargs\u001b[0m\u001b[0;34m,\u001b[0m \u001b[0mmlines\u001b[0m\u001b[0;34m.\u001b[0m\u001b[0mLine2D\u001b[0m\u001b[0;34m)\u001b[0m\u001b[0;34m\u001b[0m\u001b[0;34m\u001b[0m\u001b[0m\n\u001b[0;32m-> 1647\u001b[0;31m         \u001b[0mlines\u001b[0m \u001b[0;34m=\u001b[0m \u001b[0;34m[\u001b[0m\u001b[0;34m*\u001b[0m\u001b[0mself\u001b[0m\u001b[0;34m.\u001b[0m\u001b[0m_get_lines\u001b[0m\u001b[0;34m(\u001b[0m\u001b[0;34m*\u001b[0m\u001b[0margs\u001b[0m\u001b[0;34m,\u001b[0m \u001b[0mdata\u001b[0m\u001b[0;34m=\u001b[0m\u001b[0mdata\u001b[0m\u001b[0;34m,\u001b[0m \u001b[0;34m**\u001b[0m\u001b[0mkwargs\u001b[0m\u001b[0;34m)\u001b[0m\u001b[0;34m]\u001b[0m\u001b[0;34m\u001b[0m\u001b[0;34m\u001b[0m\u001b[0m\n\u001b[0m\u001b[1;32m   1648\u001b[0m         \u001b[0;32mfor\u001b[0m \u001b[0mline\u001b[0m \u001b[0;32min\u001b[0m \u001b[0mlines\u001b[0m\u001b[0;34m:\u001b[0m\u001b[0;34m\u001b[0m\u001b[0;34m\u001b[0m\u001b[0m\n\u001b[1;32m   1649\u001b[0m             \u001b[0mself\u001b[0m\u001b[0;34m.\u001b[0m\u001b[0madd_line\u001b[0m\u001b[0;34m(\u001b[0m\u001b[0mline\u001b[0m\u001b[0;34m)\u001b[0m\u001b[0;34m\u001b[0m\u001b[0;34m\u001b[0m\u001b[0m\n",
            "\u001b[0;32m/usr/local/lib/python3.6/dist-packages/matplotlib/axes/_base.py\u001b[0m in \u001b[0;36m__call__\u001b[0;34m(self, *args, **kwargs)\u001b[0m\n\u001b[1;32m    214\u001b[0m                 \u001b[0mthis\u001b[0m \u001b[0;34m+=\u001b[0m \u001b[0margs\u001b[0m\u001b[0;34m[\u001b[0m\u001b[0;36m0\u001b[0m\u001b[0;34m]\u001b[0m\u001b[0;34m,\u001b[0m\u001b[0;34m\u001b[0m\u001b[0;34m\u001b[0m\u001b[0m\n\u001b[1;32m    215\u001b[0m                 \u001b[0margs\u001b[0m \u001b[0;34m=\u001b[0m \u001b[0margs\u001b[0m\u001b[0;34m[\u001b[0m\u001b[0;36m1\u001b[0m\u001b[0;34m:\u001b[0m\u001b[0;34m]\u001b[0m\u001b[0;34m\u001b[0m\u001b[0;34m\u001b[0m\u001b[0m\n\u001b[0;32m--> 216\u001b[0;31m             \u001b[0;32myield\u001b[0m \u001b[0;32mfrom\u001b[0m \u001b[0mself\u001b[0m\u001b[0;34m.\u001b[0m\u001b[0m_plot_args\u001b[0m\u001b[0;34m(\u001b[0m\u001b[0mthis\u001b[0m\u001b[0;34m,\u001b[0m \u001b[0mkwargs\u001b[0m\u001b[0;34m)\u001b[0m\u001b[0;34m\u001b[0m\u001b[0;34m\u001b[0m\u001b[0m\n\u001b[0m\u001b[1;32m    217\u001b[0m \u001b[0;34m\u001b[0m\u001b[0m\n\u001b[1;32m    218\u001b[0m     \u001b[0;32mdef\u001b[0m \u001b[0mget_next_color\u001b[0m\u001b[0;34m(\u001b[0m\u001b[0mself\u001b[0m\u001b[0;34m)\u001b[0m\u001b[0;34m:\u001b[0m\u001b[0;34m\u001b[0m\u001b[0;34m\u001b[0m\u001b[0m\n",
            "\u001b[0;32m/usr/local/lib/python3.6/dist-packages/matplotlib/axes/_base.py\u001b[0m in \u001b[0;36m_plot_args\u001b[0;34m(self, tup, kwargs)\u001b[0m\n\u001b[1;32m    340\u001b[0m \u001b[0;34m\u001b[0m\u001b[0m\n\u001b[1;32m    341\u001b[0m         \u001b[0;32mif\u001b[0m \u001b[0mx\u001b[0m\u001b[0;34m.\u001b[0m\u001b[0mshape\u001b[0m\u001b[0;34m[\u001b[0m\u001b[0;36m0\u001b[0m\u001b[0;34m]\u001b[0m \u001b[0;34m!=\u001b[0m \u001b[0my\u001b[0m\u001b[0;34m.\u001b[0m\u001b[0mshape\u001b[0m\u001b[0;34m[\u001b[0m\u001b[0;36m0\u001b[0m\u001b[0;34m]\u001b[0m\u001b[0;34m:\u001b[0m\u001b[0;34m\u001b[0m\u001b[0;34m\u001b[0m\u001b[0m\n\u001b[0;32m--> 342\u001b[0;31m             raise ValueError(f\"x and y must have same first dimension, but \"\n\u001b[0m\u001b[1;32m    343\u001b[0m                              f\"have shapes {x.shape} and {y.shape}\")\n\u001b[1;32m    344\u001b[0m         \u001b[0;32mif\u001b[0m \u001b[0mx\u001b[0m\u001b[0;34m.\u001b[0m\u001b[0mndim\u001b[0m \u001b[0;34m>\u001b[0m \u001b[0;36m2\u001b[0m \u001b[0;32mor\u001b[0m \u001b[0my\u001b[0m\u001b[0;34m.\u001b[0m\u001b[0mndim\u001b[0m \u001b[0;34m>\u001b[0m \u001b[0;36m2\u001b[0m\u001b[0;34m:\u001b[0m\u001b[0;34m\u001b[0m\u001b[0;34m\u001b[0m\u001b[0m\n",
            "\u001b[0;31mValueError\u001b[0m: x and y must have same first dimension, but have shapes (1,) and (204,)"
          ]
        },
        {
          "output_type": "display_data",
          "data": {
            "image/png": "[encoded data removed]",
            "text/plain": [
              "<Figure size 1080x216 with 1 Axes>"
            ]
          },
          "metadata": {
            "tags": [],
            "needs_background": "light"
          }
        }
      ]
    },
    {
      "cell_type": "code",
      "metadata": {
        "id": "fC6yrGx4yLu7",
        "colab_type": "code",
        "colab": {
          "base_uri": "https://localhost:8080/",
          "height": 572
        },
        "outputId": "35ca1198-79ba-4b6a-a7d4-04bb72139d1c"
      },
      "source": [
        "df_time_sum = df.groupby('ObservationDate').sum()\n",
        "\n",
        "#plot\n",
        "plt.figure(figsize=(15,3))\n",
        "plt.plot('ObservationDate', 'Confirmed', data=df_time_sum, color='r')\n",
        "plt.plot('ObservationDate', 'Deaths', data=df_time_sum, color='k')\n",
        "plt.plot('ObservationDate', 'Recovered', data=df_time_sum, color='g')\n",
        "\n",
        "plt.legend(loc='best', bbox_to_anchor=(1,1), ncol=1)\n",
        "\n",
        "plt.show()"
      ],
      "execution_count": 36,
      "outputs": [
        {
          "output_type": "error",
          "ename": "ValueError",
          "evalue": "ignored",
          "traceback": [
            "\u001b[0;31m---------------------------------------------------------------------------\u001b[0m",
            "\u001b[0;31mValueError\u001b[0m                                Traceback (most recent call last)",
            "\u001b[0;32m<ipython-input-36-6d578711a219>\u001b[0m in \u001b[0;36m<module>\u001b[0;34m()\u001b[0m\n\u001b[1;32m      3\u001b[0m \u001b[0;31m#plot\u001b[0m\u001b[0;34m\u001b[0m\u001b[0;34m\u001b[0m\u001b[0;34m\u001b[0m\u001b[0m\n\u001b[1;32m      4\u001b[0m \u001b[0mplt\u001b[0m\u001b[0;34m.\u001b[0m\u001b[0mfigure\u001b[0m\u001b[0;34m(\u001b[0m\u001b[0mfigsize\u001b[0m\u001b[0;34m=\u001b[0m\u001b[0;34m(\u001b[0m\u001b[0;36m15\u001b[0m\u001b[0;34m,\u001b[0m\u001b[0;36m3\u001b[0m\u001b[0;34m)\u001b[0m\u001b[0;34m)\u001b[0m\u001b[0;34m\u001b[0m\u001b[0;34m\u001b[0m\u001b[0m\n\u001b[0;32m----> 5\u001b[0;31m \u001b[0mplt\u001b[0m\u001b[0;34m.\u001b[0m\u001b[0mplot\u001b[0m\u001b[0;34m(\u001b[0m\u001b[0;34m'ObservationDate'\u001b[0m\u001b[0;34m,\u001b[0m \u001b[0;34m'Confirmed'\u001b[0m\u001b[0;34m,\u001b[0m \u001b[0mdata\u001b[0m\u001b[0;34m=\u001b[0m\u001b[0mdf_time_sum\u001b[0m\u001b[0;34m,\u001b[0m \u001b[0mcolor\u001b[0m\u001b[0;34m=\u001b[0m\u001b[0;34m'r'\u001b[0m\u001b[0;34m)\u001b[0m\u001b[0;34m\u001b[0m\u001b[0;34m\u001b[0m\u001b[0m\n\u001b[0m\u001b[1;32m      6\u001b[0m \u001b[0mplt\u001b[0m\u001b[0;34m.\u001b[0m\u001b[0mplot\u001b[0m\u001b[0;34m(\u001b[0m\u001b[0;34m'ObservationDate'\u001b[0m\u001b[0;34m,\u001b[0m \u001b[0;34m'Deaths'\u001b[0m\u001b[0;34m,\u001b[0m \u001b[0mdata\u001b[0m\u001b[0;34m=\u001b[0m\u001b[0mdf_time_sum\u001b[0m\u001b[0;34m,\u001b[0m \u001b[0mcolor\u001b[0m\u001b[0;34m=\u001b[0m\u001b[0;34m'k'\u001b[0m\u001b[0;34m)\u001b[0m\u001b[0;34m\u001b[0m\u001b[0;34m\u001b[0m\u001b[0m\n\u001b[1;32m      7\u001b[0m \u001b[0mplt\u001b[0m\u001b[0;34m.\u001b[0m\u001b[0mplot\u001b[0m\u001b[0;34m(\u001b[0m\u001b[0;34m'ObservationDate'\u001b[0m\u001b[0;34m,\u001b[0m \u001b[0;34m'Recovered'\u001b[0m\u001b[0;34m,\u001b[0m \u001b[0mdata\u001b[0m\u001b[0;34m=\u001b[0m\u001b[0mdf_time_sum\u001b[0m\u001b[0;34m,\u001b[0m \u001b[0mcolor\u001b[0m\u001b[0;34m=\u001b[0m\u001b[0;34m'g'\u001b[0m\u001b[0;34m)\u001b[0m\u001b[0;34m\u001b[0m\u001b[0;34m\u001b[0m\u001b[0m\n",
            "\u001b[0;32m/usr/local/lib/python3.6/dist-packages/matplotlib/pyplot.py\u001b[0m in \u001b[0;36mplot\u001b[0;34m(scalex, scaley, data, *args, **kwargs)\u001b[0m\n\u001b[1;32m   2761\u001b[0m     return gca().plot(\n\u001b[1;32m   2762\u001b[0m         *args, scalex=scalex, scaley=scaley, **({\"data\": data} if data\n\u001b[0;32m-> 2763\u001b[0;31m         is not None else {}), **kwargs)\n\u001b[0m\u001b[1;32m   2764\u001b[0m \u001b[0;34m\u001b[0m\u001b[0m\n\u001b[1;32m   2765\u001b[0m \u001b[0;34m\u001b[0m\u001b[0m\n",
            "\u001b[0;32m/usr/local/lib/python3.6/dist-packages/matplotlib/axes/_axes.py\u001b[0m in \u001b[0;36mplot\u001b[0;34m(self, scalex, scaley, data, *args, **kwargs)\u001b[0m\n\u001b[1;32m   1645\u001b[0m         \"\"\"\n\u001b[1;32m   1646\u001b[0m         \u001b[0mkwargs\u001b[0m \u001b[0;34m=\u001b[0m \u001b[0mcbook\u001b[0m\u001b[0;34m.\u001b[0m\u001b[0mnormalize_kwargs\u001b[0m\u001b[0;34m(\u001b[0m\u001b[0mkwargs\u001b[0m\u001b[0;34m,\u001b[0m \u001b[0mmlines\u001b[0m\u001b[0;34m.\u001b[0m\u001b[0mLine2D\u001b[0m\u001b[0;34m)\u001b[0m\u001b[0;34m\u001b[0m\u001b[0;34m\u001b[0m\u001b[0m\n\u001b[0;32m-> 1647\u001b[0;31m         \u001b[0mlines\u001b[0m \u001b[0;34m=\u001b[0m \u001b[0;34m[\u001b[0m\u001b[0;34m*\u001b[0m\u001b[0mself\u001b[0m\u001b[0;34m.\u001b[0m\u001b[0m_get_lines\u001b[0m\u001b[0;34m(\u001b[0m\u001b[0;34m*\u001b[0m\u001b[0margs\u001b[0m\u001b[0;34m,\u001b[0m \u001b[0mdata\u001b[0m\u001b[0;34m=\u001b[0m\u001b[0mdata\u001b[0m\u001b[0;34m,\u001b[0m \u001b[0;34m**\u001b[0m\u001b[0mkwargs\u001b[0m\u001b[0;34m)\u001b[0m\u001b[0;34m]\u001b[0m\u001b[0;34m\u001b[0m\u001b[0;34m\u001b[0m\u001b[0m\n\u001b[0m\u001b[1;32m   1648\u001b[0m         \u001b[0;32mfor\u001b[0m \u001b[0mline\u001b[0m \u001b[0;32min\u001b[0m \u001b[0mlines\u001b[0m\u001b[0;34m:\u001b[0m\u001b[0;34m\u001b[0m\u001b[0;34m\u001b[0m\u001b[0m\n\u001b[1;32m   1649\u001b[0m             \u001b[0mself\u001b[0m\u001b[0;34m.\u001b[0m\u001b[0madd_line\u001b[0m\u001b[0;34m(\u001b[0m\u001b[0mline\u001b[0m\u001b[0;34m)\u001b[0m\u001b[0;34m\u001b[0m\u001b[0;34m\u001b[0m\u001b[0m\n",
            "\u001b[0;32m/usr/local/lib/python3.6/dist-packages/matplotlib/axes/_base.py\u001b[0m in \u001b[0;36m__call__\u001b[0;34m(self, *args, **kwargs)\u001b[0m\n\u001b[1;32m    214\u001b[0m                 \u001b[0mthis\u001b[0m \u001b[0;34m+=\u001b[0m \u001b[0margs\u001b[0m\u001b[0;34m[\u001b[0m\u001b[0;36m0\u001b[0m\u001b[0;34m]\u001b[0m\u001b[0;34m,\u001b[0m\u001b[0;34m\u001b[0m\u001b[0;34m\u001b[0m\u001b[0m\n\u001b[1;32m    215\u001b[0m                 \u001b[0margs\u001b[0m \u001b[0;34m=\u001b[0m \u001b[0margs\u001b[0m\u001b[0;34m[\u001b[0m\u001b[0;36m1\u001b[0m\u001b[0;34m:\u001b[0m\u001b[0;34m]\u001b[0m\u001b[0;34m\u001b[0m\u001b[0;34m\u001b[0m\u001b[0m\n\u001b[0;32m--> 216\u001b[0;31m             \u001b[0;32myield\u001b[0m \u001b[0;32mfrom\u001b[0m \u001b[0mself\u001b[0m\u001b[0;34m.\u001b[0m\u001b[0m_plot_args\u001b[0m\u001b[0;34m(\u001b[0m\u001b[0mthis\u001b[0m\u001b[0;34m,\u001b[0m \u001b[0mkwargs\u001b[0m\u001b[0;34m)\u001b[0m\u001b[0;34m\u001b[0m\u001b[0;34m\u001b[0m\u001b[0m\n\u001b[0m\u001b[1;32m    217\u001b[0m \u001b[0;34m\u001b[0m\u001b[0m\n\u001b[1;32m    218\u001b[0m     \u001b[0;32mdef\u001b[0m \u001b[0mget_next_color\u001b[0m\u001b[0;34m(\u001b[0m\u001b[0mself\u001b[0m\u001b[0;34m)\u001b[0m\u001b[0;34m:\u001b[0m\u001b[0;34m\u001b[0m\u001b[0;34m\u001b[0m\u001b[0m\n",
            "\u001b[0;32m/usr/local/lib/python3.6/dist-packages/matplotlib/axes/_base.py\u001b[0m in \u001b[0;36m_plot_args\u001b[0;34m(self, tup, kwargs)\u001b[0m\n\u001b[1;32m    340\u001b[0m \u001b[0;34m\u001b[0m\u001b[0m\n\u001b[1;32m    341\u001b[0m         \u001b[0;32mif\u001b[0m \u001b[0mx\u001b[0m\u001b[0;34m.\u001b[0m\u001b[0mshape\u001b[0m\u001b[0;34m[\u001b[0m\u001b[0;36m0\u001b[0m\u001b[0;34m]\u001b[0m \u001b[0;34m!=\u001b[0m \u001b[0my\u001b[0m\u001b[0;34m.\u001b[0m\u001b[0mshape\u001b[0m\u001b[0;34m[\u001b[0m\u001b[0;36m0\u001b[0m\u001b[0;34m]\u001b[0m\u001b[0;34m:\u001b[0m\u001b[0;34m\u001b[0m\u001b[0;34m\u001b[0m\u001b[0m\n\u001b[0;32m--> 342\u001b[0;31m             raise ValueError(f\"x and y must have same first dimension, but \"\n\u001b[0m\u001b[1;32m    343\u001b[0m                              f\"have shapes {x.shape} and {y.shape}\")\n\u001b[1;32m    344\u001b[0m         \u001b[0;32mif\u001b[0m \u001b[0mx\u001b[0m\u001b[0;34m.\u001b[0m\u001b[0mndim\u001b[0m \u001b[0;34m>\u001b[0m \u001b[0;36m2\u001b[0m \u001b[0;32mor\u001b[0m \u001b[0my\u001b[0m\u001b[0;34m.\u001b[0m\u001b[0mndim\u001b[0m \u001b[0;34m>\u001b[0m \u001b[0;36m2\u001b[0m\u001b[0;34m:\u001b[0m\u001b[0;34m\u001b[0m\u001b[0;34m\u001b[0m\u001b[0m\n",
            "\u001b[0;31mValueError\u001b[0m: x and y must have same first dimension, but have shapes (1,) and (204,)"
          ]
        },
        {
          "output_type": "display_data",
          "data": {
            "image/png": "[encoded data removed]",
            "text/plain": [
              "<Figure size 1080x216 with 1 Axes>"
            ]
          },
          "metadata": {
            "tags": [],
            "needs_background": "light"
          }
        }
      ]
    },
    {
      "cell_type": "code",
      "metadata": {
        "id": "7DY2fG-m39YK",
        "colab_type": "code",
        "colab": {
          "base_uri": "https://localhost:8080/",
          "height": 34
        },
        "outputId": "a44beff5-4e07-41e3-a6a6-d1816a050f37"
      },
      "source": [
        "start_day = datetime(year=2020, month=1, day=22)\n",
        "end_day = datetime(year=2020, month=8, day=12)\n",
        "days = end_day - start_day\n",
        "days.days"
      ],
      "execution_count": 63,
      "outputs": [
        {
          "output_type": "execute_result",
          "data": {
            "text/plain": [
              "203"
            ]
          },
          "metadata": {
            "tags": []
          },
          "execution_count": 63
        }
      ]
    },
    {
      "cell_type": "code",
      "metadata": {
        "id": "tKfbhDYKyp7f",
        "colab_type": "code",
        "colab": {
          "base_uri": "https://localhost:8080/",
          "height": 85
        },
        "outputId": "68ab6eee-01f8-4551-e3bb-090c55d9458d"
      },
      "source": [
        "dates = df['ObservationDate'].to_list()\n",
        "confirmed = df['Confirmed'].to_list()\n",
        "deaths = df['Deaths'].to_list()\n",
        "recovered = df['Recovered'].to_list()\n",
        "\n",
        "print(len(dates))\n",
        "print(len(confirmed))\n",
        "print(len(deaths))\n",
        "print(len(recovered))"
      ],
      "execution_count": 42,
      "outputs": [
        {
          "output_type": "stream",
          "text": [
            "85638\n",
            "85638\n",
            "85638\n",
            "85638\n"
          ],
          "name": "stdout"
        }
      ]
    },
    {
      "cell_type": "code",
      "metadata": {
        "id": "QcqXcmbU2yq6",
        "colab_type": "code",
        "colab": {
          "base_uri": "https://localhost:8080/",
          "height": 1000
        },
        "outputId": "bcb7e12f-7cdd-47ca-a298-4a868f18785b"
      },
      "source": [
        "list_days = [start_day + timedelta(days=x) for x in range(days.days + 1)]\n",
        "\n",
        "\n",
        "reference = [x for x in range(days.days + 1)]\n",
        "\n",
        "\n",
        "date_dict = dict(zip(list_days, reference))\n",
        "\n",
        "sum_confirmed = [0] *len(reference)\n",
        "sum_deaths = [0] *len(reference)\n",
        "sum_recovered = [0] *len(reference)\n",
        "\n",
        "plus = 0\n",
        "for d in range(len(list_days)):\n",
        "\n",
        "    while dates[plus] == list_days[d] and (d + plus) < len(dates):\n",
        "        sum_confirmed[d] = int(sum_confirmed[d]) + int(confirmed[d + plus])\n",
        "        # print(d, sum_confirmed[d], confirmed[d + plus])\n",
        "        sum_deaths[d] = int(sum_deaths[d]) + int(deaths[d + plus])\n",
        "        sum_recovered[d] = int(sum_recovered[d]) + int(recovered[d + plus])\n",
        "        plus += 1\n",
        "\n",
        "print( 'ObservationDate | Confirmed | deaths | recovered')\n",
        "for d in range(len(list_days)):\n",
        "    print(list_days[d], sum_confirmed[d], sum_deaths[d], sum_recovered[d])"
      ],
      "execution_count": 102,
      "outputs": [
        {
          "output_type": "stream",
          "text": [
            "ObservationDate | Confirmed | deaths | recovered\n",
            "2020-01-22 00:00:00 555 17 28\n",
            "2020-01-23 00:00:00 1193 42 61\n",
            "2020-01-24 00:00:00 1178 42 37\n",
            "2020-01-25 00:00:00 1810 54 49\n",
            "2020-01-26 00:00:00 2592 80 57\n",
            "2020-01-27 00:00:00 5232 131 98\n",
            "2020-01-28 00:00:00 5907 132 119\n",
            "2020-01-29 00:00:00 7934 170 137\n",
            "2020-01-30 00:00:00 9603 213 209\n",
            "2020-01-31 00:00:00 11724 260 272\n",
            "2020-02-01 00:00:00 16563 361 459\n",
            "2020-02-02 00:00:00 19669 426 612\n",
            "2020-02-03 00:00:00 23694 491 834\n",
            "2020-02-04 00:00:00 27462 562 1086\n",
            "2020-02-05 00:00:00 30638 636 1454\n",
            "2020-02-06 00:00:00 34248 717 1969\n",
            "2020-02-07 00:00:00 36999 806 2578\n",
            "2020-02-08 00:00:00 40074 903 3214\n",
            "2020-02-09 00:00:00 42623 1013 3932\n",
            "2020-02-10 00:00:00 44727 1112 4617\n",
            "2020-02-11 00:00:00 45163 1117 5076\n",
            "2020-02-12 00:00:00 60330 1368 6245\n",
            "2020-02-13 00:00:00 66858 1523 8035\n",
            "2020-02-14 00:00:00 68994 1665 9344\n",
            "2020-02-15 00:00:00 71195 1769 10828\n",
            "2020-02-16 00:00:00 73236 1868 12562\n",
            "2020-02-17 00:00:00 75121 2007 14316\n",
            "2020-02-18 00:00:00 75621 2119 16095\n",
            "2020-02-19 00:00:00 76130 2246 18134\n",
            "2020-02-20 00:00:00 76783 2248 18863\n",
            "2020-02-21 00:00:00 78539 2455 22874\n",
            "2020-02-22 00:00:00 78949 2466 23349\n",
            "2020-02-23 00:00:00 79519 2625 25193\n",
            "2020-02-24 00:00:00 80352 2718 27859\n",
            "2020-02-25 00:00:00 81321 2769 30376\n",
            "2020-02-26 00:00:00 82668 2814 33268\n",
            "2020-02-27 00:00:00 84045 2872 36701\n",
            "2020-02-28 00:00:00 85881 2940 39725\n",
            "2020-02-29 00:00:00 88237 2994 42649\n",
            "2020-03-01 00:00:00 90185 3080 45596\n",
            "2020-03-02 00:00:00 92703 3158 48219\n",
            "2020-03-03 00:00:00 94882 3247 51177\n",
            "2020-03-04 00:00:00 97598 3346 53653\n",
            "2020-03-05 00:00:00 101487 3453 55744\n",
            "2020-03-06 00:00:00 105560 3551 58283\n",
            "2020-03-07 00:00:00 109387 3793 60686\n",
            "2020-03-08 00:00:00 113380 3977 62488\n",
            "2020-03-09 00:00:00 118162 4277 64280\n",
            "2020-03-10 00:00:00 125146 4604 66838\n",
            "2020-03-11 00:00:00 127901 4712 68201\n",
            "2020-03-12 00:00:00 84858 3236 64842\n",
            "2020-03-13 00:00:00 213900 7937 77303\n",
            "2020-03-14 00:00:00 166372 6431 76013\n",
            "2020-03-15 00:00:00 180012 7098 77489\n",
            "2020-03-16 00:00:00 195222 7889 80778\n",
            "2020-03-17 00:00:00 213083 8692 82943\n",
            "2020-03-18 00:00:00 239458 9848 84257\n",
            "2020-03-19 00:00:00 269135 11256 86723\n",
            "2020-03-20 00:00:00 300930 12929 91033\n",
            "2020-03-21 00:00:00 78462 1261 6838\n",
            "2020-03-22 00:00:00 328059 14034 95427\n",
            "2020-03-23 00:00:00 407633 17722 107140\n",
            "2020-03-24 00:00:00 428739 19004 109413\n",
            "2020-03-25 00:00:00 483034 21733 117213\n",
            "2020-03-26 00:00:00 544585 24484 124342\n",
            "2020-03-27 00:00:00 609857 27775 133057\n",
            "2020-03-28 00:00:00 672035 31236 142270\n",
            "2020-03-29 00:00:00 733365 34632 154904\n",
            "2020-03-30 00:00:00 800100 38569 169530\n",
            "2020-03-31 00:00:00 873838 43029 184068\n",
            "2020-04-01 00:00:00 947751 48766 199878\n",
            "2020-04-02 00:00:00 1030605 54569 214967\n",
            "2020-04-03 00:00:00 1132513 60397 230400\n",
            "2020-04-04 00:00:00 1209053 65618 250466\n",
            "2020-04-05 00:00:00 1285515 70842 262421\n",
            "2020-04-06 00:00:00 1367307 76885 287491\n",
            "2020-04-07 00:00:00 1443923 83323 314278\n",
            "2020-04-08 00:00:00 1531217 90766 341726\n",
            "2020-04-09 00:00:00 1618894 97564 362790\n",
            "2020-04-10 00:00:00 1708604 103909 389887\n",
            "2020-04-11 00:00:00 1787620 110127 410430\n",
            "2020-04-12 00:00:00 1865856 116160 431544\n",
            "2020-04-13 00:00:00 1924770 121831 462891\n",
            "2020-04-14 00:00:00 1998852 129298 497372\n",
            "2020-04-15 00:00:00 2087420 136724 526837\n",
            "2020-04-16 00:00:00 2175519 146370 558015\n",
            "2020-04-17 00:00:00 2257886 155946 580076\n",
            "2020-04-18 00:00:00 2339418 161225 610249\n",
            "2020-04-19 00:00:00 2419871 166970 635428\n",
            "2020-04-20 00:00:00 2490494 171994 669705\n",
            "2020-04-21 00:00:00 2565128 178631 697645\n",
            "2020-04-22 00:00:00 2647140 185394 725527\n",
            "2020-04-23 00:00:00 2741137 193011 756895\n",
            "2020-04-24 00:00:00 2831409 198999 803922\n",
            "2020-04-25 00:00:00 2914179 204148 827033\n",
            "2020-04-26 00:00:00 2991891 208311 876362\n",
            "2020-04-27 00:00:00 3063667 213295 907641\n",
            "2020-04-28 00:00:00 3134319 219034 947128\n",
            "2020-04-29 00:00:00 3213155 229261 987100\n",
            "2020-04-30 00:00:00 3277379 235021 1030006\n",
            "2020-05-01 00:00:00 3365161 240451 1065103\n",
            "2020-05-02 00:00:00 3447893 245058 1106126\n",
            "2020-05-03 00:00:00 3531163 248993 1137588\n",
            "2020-05-04 00:00:00 3605619 253160 1177913\n",
            "2020-05-05 00:00:00 3693893 259616 1226165\n",
            "2020-05-06 00:00:00 3780250 265532 1262861\n",
            "2020-05-07 00:00:00 3874350 271518 1299283\n",
            "2020-05-08 00:00:00 3963674 276289 1337908\n",
            "2020-05-09 00:00:00 4049117 280874 1390864\n",
            "2020-05-10 00:00:00 4126158 284262 1422517\n",
            "2020-05-11 00:00:00 4207074 288708 1477369\n",
            "2020-05-12 00:00:00 4294850 293978 1516834\n",
            "2020-05-13 00:00:00 3985504 260087 1299602\n",
            "2020-05-14 00:00:00 4481282 304507 1607356\n",
            "2020-05-15 00:00:00 4576904 309182 1654534\n",
            "2020-05-16 00:00:00 4662221 313499 1711515\n",
            "2020-05-17 00:00:00 4751127 316725 1752006\n",
            "2020-05-18 00:00:00 4844799 320290 1806421\n",
            "2020-05-19 00:00:00 4550086 300016 1688781\n",
            "2020-05-20 00:00:00 5018985 328800 1909868\n",
            "2020-05-21 00:00:00 5125091 333563 1967478\n",
            "2020-05-22 00:00:00 5233421 338681 2066427\n",
            "2020-05-23 00:00:00 5336471 342790 2123765\n",
            "2020-05-24 00:00:00 5431262 345723 2193576\n",
            "2020-05-25 00:00:00 5516270 346908 2244352\n",
            "2020-05-26 00:00:00 5615336 351203 2301739\n",
            "2020-05-27 00:00:00 5614608 354006 2319697\n",
            "2020-05-28 00:00:00 5843375 361097 2445555\n",
            "2020-05-29 00:00:00 5958819 365648 2516117\n",
            "2020-05-30 00:00:00 6102311 370024 2591030\n",
            "2020-05-31 00:00:00 5792457 368049 2486649\n",
            "2020-06-01 00:00:00 6300442 376524 2714965\n",
            "2020-06-02 00:00:00 6427700 381303 2748579\n",
            "2020-06-03 00:00:00 6543677 386763 2824951\n",
            "2020-06-04 00:00:00 6671406 392100 2890282\n",
            "2020-06-05 00:00:00 6814434 397131 3034521\n",
            "2020-06-06 00:00:00 6939183 400869 3105249\n",
            "2020-06-07 00:00:00 7054032 403729 3161083\n",
            "2020-06-08 00:00:00 7162371 407576 3316279\n",
            "2020-06-09 00:00:00 6922441 402112 3251702\n",
            "2020-06-10 00:00:00 7390914 416760 3472795\n",
            "2020-06-11 00:00:00 7547424 422178 3560692\n",
            "2020-06-12 00:00:00 7668023 426138 3631928\n",
            "2020-06-13 00:00:00 7802653 430464 3718122\n",
            "2020-06-14 00:00:00 7936566 433943 3790241\n",
            "2020-06-15 00:00:00 8069389 437847 3895904\n",
            "2020-06-16 00:00:00 8212135 444518 3977381\n",
            "2020-06-17 00:00:00 8387869 449870 4096012\n",
            "2020-06-18 00:00:00 8529077 454903 4183458\n",
            "2020-06-19 00:00:00 8708484 461074 4274435\n",
            "2020-06-20 00:00:00 8828044 465269 4399333\n",
            "2020-06-21 00:00:00 8993820 469200 4470415\n",
            "2020-06-22 00:00:00 9138563 473185 4551016\n",
            "2020-06-23 00:00:00 9304416 478457 4658116\n",
            "2020-06-24 00:00:00 9476032 483710 4776131\n",
            "2020-06-25 00:00:00 9655807 490340 4870320\n",
            "2020-06-26 00:00:00 9844818 495016 4970187\n",
            "2020-06-27 00:00:00 10022111 499508 5077296\n",
            "2020-06-28 00:00:00 10190528 502953 5168135\n",
            "2020-06-29 00:00:00 10347702 506608 5265241\n",
            "2020-06-30 00:00:00 10544996 512387 5387680\n",
            "2020-07-01 00:00:00 10744381 517349 5618407\n",
            "2020-07-02 00:00:00 10926296 522398 5788455\n",
            "2020-07-03 00:00:00 11127845 527444 5896794\n",
            "2020-07-04 00:00:00 11318122 531883 6087647\n",
            "2020-07-05 00:00:00 11500706 535482 6214519\n",
            "2020-07-06 00:00:00 11673786 539407 6342010\n",
            "2020-07-07 00:00:00 11882602 545208 6487754\n",
            "2020-07-08 00:00:00 12104649 550617 6645318\n",
            "2020-07-09 00:00:00 12327335 556162 6771082\n",
            "2020-07-10 00:00:00 12557764 561332 6919417\n",
            "2020-07-11 00:00:00 12770202 566537 7043108\n",
            "2020-07-12 00:00:00 12965801 570215 7159470\n",
            "2020-07-13 00:00:00 13156594 574227 7303924\n",
            "2020-07-14 00:00:00 13385071 579929 7449983\n",
            "2020-07-15 00:00:00 13617086 585472 7599895\n",
            "2020-07-16 00:00:00 13867469 586486 7798818\n",
            "2020-07-17 00:00:00 14130481 598507 7953719\n",
            "2020-07-18 00:00:00 14355259 603448 8089037\n",
            "2020-07-19 00:00:00 14564268 607635 8159886\n",
            "2020-07-20 00:00:00 14768598 611313 8347075\n",
            "2020-07-21 00:00:00 15016809 618395 8524861\n",
            "2020-07-22 00:00:00 15299092 624909 8693102\n",
            "2020-07-23 00:00:00 15581873 634914 8863397\n",
            "2020-07-24 00:00:00 15858196 641073 9095965\n",
            "2020-07-25 00:00:00 16107213 646421 9300498\n",
            "2020-07-26 00:00:00 16313239 650151 9443670\n",
            "2020-07-27 00:00:00 16549313 655676 9630984\n",
            "2020-07-28 00:00:00 16758742 661103 9767280\n",
            "2020-07-29 00:00:00 17110253 668737 10052893\n",
            "2020-07-30 00:00:00 17392053 674755 10233278\n",
            "2020-07-31 00:00:00 17672458 680803 10433032\n",
            "2020-08-01 00:00:00 17918208 686409 10597737\n",
            "2020-08-02 00:00:00 18141217 690813 10767390\n",
            "2020-08-03 00:00:00 18355843 695795 10992147\n",
            "2020-08-04 00:00:00 18619722 702543 11209223\n",
            "2020-08-05 00:00:00 18893976 709461 11419133\n",
            "2020-08-06 00:00:00 19180473 716575 11602905\n",
            "2020-08-07 00:00:00 19452314 722841 11798635\n",
            "2020-08-08 00:00:00 19704917 728206 11996596\n",
            "2020-08-09 00:00:00 19935516 732903 12168093\n",
            "2020-08-10 00:00:00 20158828 738004 12408551\n",
            "2020-08-11 00:00:00 20423296 744593 12645608\n",
            "2020-08-12 00:00:00 14319834 564928 8644778\n"
          ],
          "name": "stdout"
        }
      ]
    }
  ]
}